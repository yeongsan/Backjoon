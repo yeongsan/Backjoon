{
 "cells": [
  {
   "cell_type": "code",
   "execution_count": 4,
   "metadata": {},
   "outputs": [
    {
     "name": "stdin",
     "output_type": "stream",
     "text": [
      " a\n"
     ]
    },
    {
     "name": "stdout",
     "output_type": "stream",
     "text": [
      "97\n"
     ]
    }
   ],
   "source": [
    "## 11654번 : 아스키 코드\n",
    "\n",
    "N = input()\n",
    "print(ord(N))"
   ]
  },
  {
   "cell_type": "code",
   "execution_count": 23,
   "metadata": {},
   "outputs": [
    {
     "name": "stdin",
     "output_type": "stream",
     "text": [
      " 5\n",
      " 70000\n"
     ]
    },
    {
     "name": "stdout",
     "output_type": "stream",
     "text": [
      "7\n"
     ]
    }
   ],
   "source": [
    "## 11720번: 숫자의 합\n",
    "\n",
    "N = int(input())\n",
    "a= list(map(int,input()))\n",
    "num = 0\n",
    "for i in a:\n",
    "    num += int(i)\n",
    "print(num)"
   ]
  },
  {
   "cell_type": "code",
   "execution_count": 32,
   "metadata": {},
   "outputs": [
    {
     "name": "stdin",
     "output_type": "stream",
     "text": [
      " baekjoon\n"
     ]
    },
    {
     "name": "stdout",
     "output_type": "stream",
     "text": [
      "1 0 -1 -1 2 -1 -1 -1 -1 4 3 -1 -1 7 5 -1 -1 -1 -1 -1 -1 -1 -1 -1 -1 -1 "
     ]
    }
   ],
   "source": [
    "## 10809번: 알파벳 찾기\n",
    "\n",
    "import string\n",
    "N = input()\n",
    "for a in string.ascii_lowercase:\n",
    "    print(N.find(a),end=' ')"
   ]
  },
  {
   "cell_type": "code",
   "execution_count": 67,
   "metadata": {},
   "outputs": [
    {
     "name": "stdin",
     "output_type": "stream",
     "text": [
      " 2\n",
      " 3 ABC\n"
     ]
    },
    {
     "name": "stdout",
     "output_type": "stream",
     "text": [
      "AAABBBCCC\n"
     ]
    },
    {
     "name": "stdin",
     "output_type": "stream",
     "text": [
      " 5 /HTP\n"
     ]
    },
    {
     "name": "stdout",
     "output_type": "stream",
     "text": [
      "/////HHHHHTTTTTPPPPP\n"
     ]
    }
   ],
   "source": [
    "## 2675번: 문자열 반복\n",
    "\n",
    "N = int(input())\n",
    "for i in range(N):\n",
    "    a,b = input().split()\n",
    "    a = int(a)\n",
    "    for j in range(len(b)):\n",
    "        print( b[j]*a, end='')\n",
    "    print()                      #   필요성?\n"
   ]
  },
  {
   "cell_type": "code",
   "execution_count": 33,
   "metadata": {},
   "outputs": [
    {
     "name": "stdin",
     "output_type": "stream",
     "text": [
      " baaa\n"
     ]
    },
    {
     "name": "stdout",
     "output_type": "stream",
     "text": [
      "A\n"
     ]
    }
   ],
   "source": [
    "## 1157번: 단어 공부\n",
    "\n",
    "N = input().upper()\n",
    "a = []\n",
    "\n",
    "for i in set(N):\n",
    "    a.append(N.count(i))\n",
    "idx =[i for i,x in enumerate(a) if x==max(a) ]\n",
    "\n",
    "if len(idx)>1:print(\"?\")\n",
    "else:print(list(set(N))[a.index(max(a))])"
   ]
  },
  {
   "cell_type": "code",
   "execution_count": 34,
   "metadata": {},
   "outputs": [
    {
     "name": "stdin",
     "output_type": "stream",
     "text": [
      " hello world\n"
     ]
    },
    {
     "name": "stdout",
     "output_type": "stream",
     "text": [
      "2\n"
     ]
    }
   ],
   "source": [
    "## 1152번: 단어의 개수\n",
    "\n",
    "a=input().split()\n",
    "print(len(a))\n"
   ]
  },
  {
   "cell_type": "code",
   "execution_count": 16,
   "metadata": {},
   "outputs": [
    {
     "name": "stdin",
     "output_type": "stream",
     "text": [
      " 734 893\n"
     ]
    },
    {
     "name": "stdout",
     "output_type": "stream",
     "text": [
      "437\n"
     ]
    }
   ],
   "source": [
    "## 2908번: 상수\n",
    "\n",
    "a = input().split()\n",
    "b = []\n",
    "\n",
    "for i in range(len(set(a))):\n",
    "    b.append(list(set(a))[i][::-1])\n",
    "\n",
    "print(max(b))"
   ]
  },
  {
   "cell_type": "code",
   "execution_count": 19,
   "metadata": {},
   "outputs": [
    {
     "name": "stdin",
     "output_type": "stream",
     "text": [
      " WA\n"
     ]
    },
    {
     "name": "stdout",
     "output_type": "stream",
     "text": [
      "13\n"
     ]
    }
   ],
   "source": [
    "## 5622번: 다이얼\n",
    "\n",
    "alphabet = ['ABC', 'DEF', 'GHI', 'JKL', 'MNO', 'PQRS', 'TUV', 'WXYZ']\n",
    "N = input()\n",
    "\n",
    "time = 0\n",
    "for unit in alphabet :\n",
    "    for i in unit:\n",
    "        for j in N:\n",
    "            if i==j:\n",
    "                time += alphabet.index(unit) + 3\n",
    "print(time)"
   ]
  },
  {
   "cell_type": "code",
   "execution_count": 5,
   "metadata": {},
   "outputs": [
    {
     "name": "stdin",
     "output_type": "stream",
     "text": [
      " nljj\n"
     ]
    },
    {
     "name": "stdout",
     "output_type": "stream",
     "text": [
      "3\n"
     ]
    }
   ],
   "source": [
    "## 2941번: 크로아티아 알파벳\n",
    "\n",
    "alphabet = ['c=','c-','dz=','d-','lj','nj','s=','z=']\n",
    "a =input()\n",
    "\n",
    "for i in alphabet:\n",
    "    a = a.replace(i,'a')\n",
    "print(len(a))"
   ]
  },
  {
   "cell_type": "code",
   "execution_count": 8,
   "metadata": {},
   "outputs": [
    {
     "name": "stdin",
     "output_type": "stream",
     "text": [
      " 4\n",
      " aba\n",
      " abab\n",
      " abcabc\n",
      " a\n"
     ]
    },
    {
     "name": "stdout",
     "output_type": "stream",
     "text": [
      "1\n"
     ]
    }
   ],
   "source": [
    "## 1316번: 그룹 단어 체커\n",
    "\n",
    "N = int(input())\n",
    "count = N\n",
    "\n",
    "for _ in range(N):\n",
    "    word = input()\n",
    "    for i in range(len(word)-1):\n",
    "        if word.find(word[i]) > word.find(word[i+1]) :\n",
    "            count -= 1\n",
    "            break\n",
    "\n",
    "print(count)"
   ]
  },
  {
   "cell_type": "code",
   "execution_count": null,
   "metadata": {},
   "outputs": [],
   "source": []
  }
 ],
 "metadata": {
  "kernelspec": {
   "display_name": "Python 3",
   "language": "python",
   "name": "python3"
  },
  "language_info": {
   "codemirror_mode": {
    "name": "ipython",
    "version": 3
   },
   "file_extension": ".py",
   "mimetype": "text/x-python",
   "name": "python",
   "nbconvert_exporter": "python",
   "pygments_lexer": "ipython3",
   "version": "3.8.5"
  }
 },
 "nbformat": 4,
 "nbformat_minor": 4
}
