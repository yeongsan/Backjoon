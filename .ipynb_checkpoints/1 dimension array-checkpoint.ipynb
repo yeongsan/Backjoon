{
 "cells": [
  {
   "cell_type": "code",
   "execution_count": 1,
   "metadata": {},
   "outputs": [
    {
     "name": "stdin",
     "output_type": "stream",
     "text": [
      " 5\n",
      " 20 15 30 35 7\n"
     ]
    },
    {
     "name": "stdout",
     "output_type": "stream",
     "text": [
      "7 35\n"
     ]
    }
   ],
   "source": [
    "# 10818번: 최소, 최대\n",
    "N = int(input())\n",
    "nums = tuple(map(int,input().split()))  # tuple or list   , 숫자 여러개 리스트로 쓰려면 map\n",
    "print(min(nums), max(nums))"
   ]
  },
  {
   "cell_type": "code",
   "execution_count": 2,
   "metadata": {},
   "outputs": [
    {
     "name": "stdin",
     "output_type": "stream",
     "text": [
      " 3\n",
      " 29\n",
      " 38\n",
      " 12\n",
      " 57\n",
      " 74\n",
      " 40\n",
      " 85\n",
      " 61\n"
     ]
    },
    {
     "name": "stdout",
     "output_type": "stream",
     "text": [
      "85\n",
      "8\n"
     ]
    }
   ],
   "source": [
    "## 2562번: 최댓값\n",
    "a= []\n",
    "for i in range(9):\n",
    "    a.append((int(input())))\n",
    "print(max(a))\n",
    "print(a.index(max(a))+1)"
   ]
  },
  {
   "cell_type": "code",
   "execution_count": 17,
   "metadata": {},
   "outputs": [
    {
     "name": "stdin",
     "output_type": "stream",
     "text": [
      " 150\n",
      " 266\n",
      " 427\n"
     ]
    },
    {
     "name": "stdout",
     "output_type": "stream",
     "text": [
      "3\n",
      "1\n",
      "0\n",
      "2\n",
      "0\n",
      "0\n",
      "0\n",
      "2\n",
      "0\n",
      "0\n"
     ]
    }
   ],
   "source": [
    "## 2577번: 숫자의 개수\n",
    "A = int(input())\n",
    "B = int(input())\n",
    "C = int(input())\n",
    "for i in range(10):\n",
    "    print(list(map(int,str(A*B*C))).count(i))"
   ]
  },
  {
   "cell_type": "code",
   "execution_count": 20,
   "metadata": {},
   "outputs": [
    {
     "name": "stdin",
     "output_type": "stream",
     "text": [
      " 39\n",
      " 40\n",
      " 41\n",
      " 42\n",
      " 43\n",
      " 44\n",
      " 82\n",
      " 83\n",
      " 84\n",
      " 85\n"
     ]
    },
    {
     "name": "stdout",
     "output_type": "stream",
     "text": [
      "6\n"
     ]
    }
   ],
   "source": [
    "## 3052번: 나머지\n",
    "numList = [] \n",
    "for i in range(10): \n",
    "    inputNum = int(input()) \n",
    "    numList.append(inputNum % 42) \n",
    "    \n",
    "print(len(set(numList)))\n",
    "\n"
   ]
  },
  {
   "cell_type": "code",
   "execution_count": 17,
   "metadata": {},
   "outputs": [
    {
     "name": "stdin",
     "output_type": "stream",
     "text": [
      " 5\n",
      " 1 2 4 8 16\n"
     ]
    },
    {
     "name": "stdout",
     "output_type": "stream",
     "text": [
      "38.75\n"
     ]
    }
   ],
   "source": [
    "## 1546번: 평균\n",
    "N = int(input())\n",
    "a = list(map(int,input().split()))\n",
    "b = []\n",
    "for i in range(len(a)):\n",
    "    b.append(a[i]/max(a)*100)\n",
    "print(sum(b)/len(b))"
   ]
  },
  {
   "cell_type": "code",
   "execution_count": 30,
   "metadata": {},
   "outputs": [
    {
     "name": "stdin",
     "output_type": "stream",
     "text": [
      " 2\n",
      " OOXXOXXOOO\n"
     ]
    },
    {
     "name": "stdout",
     "output_type": "stream",
     "text": [
      "10\n"
     ]
    },
    {
     "name": "stdin",
     "output_type": "stream",
     "text": [
      " OOXXOOXXOO\n"
     ]
    },
    {
     "name": "stdout",
     "output_type": "stream",
     "text": [
      "9\n"
     ]
    }
   ],
   "source": [
    "## 8958번: OX퀴즈\n",
    "N = int(input())\n",
    "for i in range(N):\n",
    "    OX= list(input())\n",
    "    score=0\n",
    "    sum_score=0\n",
    "    \n",
    "    for j in OX:\n",
    "        if j == \"O\":\n",
    "            score +=1\n",
    "            sum_score +=score\n",
    "        else:\n",
    "            score=0\n",
    "    print(sum_score)"
   ]
  },
  {
   "cell_type": "code",
   "execution_count": 47,
   "metadata": {},
   "outputs": [
    {
     "name": "stdin",
     "output_type": "stream",
     "text": [
      " 5\n",
      " 5 50 50 70 80 100\n"
     ]
    },
    {
     "name": "stdout",
     "output_type": "stream",
     "text": [
      "40.000%\n"
     ]
    },
    {
     "name": "stdin",
     "output_type": "stream",
     "text": [
      " 7 100 95 90 80 70 60 50\n"
     ]
    },
    {
     "name": "stdout",
     "output_type": "stream",
     "text": [
      "57.143%\n"
     ]
    },
    {
     "name": "stdin",
     "output_type": "stream",
     "text": [
      " 3 70 90 80\n"
     ]
    },
    {
     "name": "stdout",
     "output_type": "stream",
     "text": [
      "33.333%\n"
     ]
    },
    {
     "name": "stdin",
     "output_type": "stream",
     "text": [
      " 3 70 90 81\n"
     ]
    },
    {
     "name": "stdout",
     "output_type": "stream",
     "text": [
      "66.667%\n"
     ]
    },
    {
     "name": "stdin",
     "output_type": "stream",
     "text": [
      " 9 100 99 98 97 96 95 94 93 91\n"
     ]
    },
    {
     "name": "stdout",
     "output_type": "stream",
     "text": [
      "55.556%\n"
     ]
    }
   ],
   "source": [
    "## 4344번: 평균은 넘겠지\n",
    "N = int(input())\n",
    "for i in range(N):\n",
    "    a = list(map(int,input().split()))\n",
    "    cnt = 0\n",
    "    for j in a[1:]:\n",
    "        if j > sum(a[1:])/a[0]:\n",
    "            cnt +=1\n",
    "    print(\"{:.3f}%\".format((cnt/a[0])*100))\n"
   ]
  },
  {
   "cell_type": "code",
   "execution_count": null,
   "metadata": {},
   "outputs": [],
   "source": []
  }
 ],
 "metadata": {
  "kernelspec": {
   "display_name": "Python 3",
   "language": "python",
   "name": "python3"
  },
  "language_info": {
   "codemirror_mode": {
    "name": "ipython",
    "version": 3
   },
   "file_extension": ".py",
   "mimetype": "text/x-python",
   "name": "python",
   "nbconvert_exporter": "python",
   "pygments_lexer": "ipython3",
   "version": "3.8.5"
  }
 },
 "nbformat": 4,
 "nbformat_minor": 4
}
