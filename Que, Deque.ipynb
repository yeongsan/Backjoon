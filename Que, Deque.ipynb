{
 "cells": [
  {
   "cell_type": "code",
   "execution_count": 4,
   "metadata": {},
   "outputs": [
    {
     "name": "stdin",
     "output_type": "stream",
     "text": [
      " 15\n",
      " push 1\n",
      " push 2\n",
      " front\n"
     ]
    },
    {
     "name": "stdout",
     "output_type": "stream",
     "text": [
      "1\n"
     ]
    },
    {
     "name": "stdin",
     "output_type": "stream",
     "text": [
      " back\n"
     ]
    },
    {
     "name": "stdout",
     "output_type": "stream",
     "text": [
      "2\n"
     ]
    },
    {
     "name": "stdin",
     "output_type": "stream",
     "text": [
      " size\n"
     ]
    },
    {
     "name": "stdout",
     "output_type": "stream",
     "text": [
      "2\n"
     ]
    },
    {
     "name": "stdin",
     "output_type": "stream",
     "text": [
      " empty\n"
     ]
    },
    {
     "name": "stdout",
     "output_type": "stream",
     "text": [
      "0\n"
     ]
    },
    {
     "name": "stdin",
     "output_type": "stream",
     "text": [
      " pop\n"
     ]
    },
    {
     "name": "stdout",
     "output_type": "stream",
     "text": [
      "1\n"
     ]
    },
    {
     "name": "stdin",
     "output_type": "stream",
     "text": [
      " pop\n"
     ]
    },
    {
     "name": "stdout",
     "output_type": "stream",
     "text": [
      "2\n"
     ]
    },
    {
     "name": "stdin",
     "output_type": "stream",
     "text": [
      " pop\n"
     ]
    },
    {
     "name": "stdout",
     "output_type": "stream",
     "text": [
      "-1\n"
     ]
    },
    {
     "name": "stdin",
     "output_type": "stream",
     "text": [
      " size\n"
     ]
    },
    {
     "name": "stdout",
     "output_type": "stream",
     "text": [
      "0\n"
     ]
    },
    {
     "name": "stdin",
     "output_type": "stream",
     "text": [
      " empty\n"
     ]
    },
    {
     "name": "stdout",
     "output_type": "stream",
     "text": [
      "1\n"
     ]
    },
    {
     "name": "stdin",
     "output_type": "stream",
     "text": [
      " pop\n"
     ]
    },
    {
     "name": "stdout",
     "output_type": "stream",
     "text": [
      "-1\n"
     ]
    },
    {
     "name": "stdin",
     "output_type": "stream",
     "text": [
      " push 3\n",
      " empty\n"
     ]
    },
    {
     "name": "stdout",
     "output_type": "stream",
     "text": [
      "0\n"
     ]
    },
    {
     "name": "stdin",
     "output_type": "stream",
     "text": [
      " front\n"
     ]
    },
    {
     "name": "stdout",
     "output_type": "stream",
     "text": [
      "3\n"
     ]
    }
   ],
   "source": [
    "## 18258번: 큐 2\n",
    "\n",
    "# import sys\n",
    "from collections import deque\n",
    "# input = sys.stdin.readline   \n",
    "\n",
    "n = int(input())\n",
    "q = deque([])\n",
    "\n",
    "for _ in range(n):\n",
    "    a = input().split()\n",
    "    if a[0] == 'push':\n",
    "        q.append(a[1])\n",
    "    elif a[0] == 'pop':\n",
    "        if not q:\n",
    "            print(-1)\n",
    "        else:\n",
    "            print(q.popleft())\n",
    "         \n",
    "    elif a[0] =='size':\n",
    "        print(len(q))\n",
    "        \n",
    "    elif a[0] =='empty':\n",
    "        if not q:\n",
    "            print(1)\n",
    "        else:\n",
    "            print(0)\n",
    "            \n",
    "    elif a[0] == 'front': \n",
    "        if not q:\n",
    "            print(-1)\n",
    "        else:\n",
    "            print(q[0])\n",
    "    elif a[0] == 'back':\n",
    "        if not q:\n",
    "            print(-1)\n",
    "        else:\n",
    "            print(q[-1])"
   ]
  },
  {
   "cell_type": "code",
   "execution_count": 5,
   "metadata": {},
   "outputs": [
    {
     "name": "stdin",
     "output_type": "stream",
     "text": [
      " 6\n"
     ]
    },
    {
     "name": "stdout",
     "output_type": "stream",
     "text": [
      "4\n"
     ]
    }
   ],
   "source": [
    "## 2164번: 카드2\n",
    "import sys\n",
    "from collections import deque\n",
    "\n",
    "# input = sys.stdin.readline\n",
    "N = int(input())\n",
    "queue = deque()\n",
    "for i in range(N):\n",
    "    queue.append(i+1)\n",
    "    \n",
    "while len(queue)>1:\n",
    "    queue.popleft()\n",
    "    queue.append(queue.popleft())\n",
    "    \n",
    "print(queue.pop())"
   ]
  },
  {
   "cell_type": "code",
   "execution_count": 26,
   "metadata": {},
   "outputs": [
    {
     "name": "stdin",
     "output_type": "stream",
     "text": [
      " 7 3\n"
     ]
    },
    {
     "name": "stdout",
     "output_type": "stream",
     "text": [
      "<3, 6, 2, 7, 5, 1, 4>\n"
     ]
    }
   ],
   "source": [
    "## 11866번: 요세푸스\n",
    "\n",
    "from collections import deque\n",
    "\n",
    "queue = deque()\n",
    "answer = []\n",
    "\n",
    "n, k = map(int, input().split())\n",
    "\n",
    "for i in range(1, n+1):\n",
    "    queue.append(i)\n",
    "\n",
    "while queue:\n",
    "    for i in range(k-1):\n",
    "        queue.append(queue.popleft())\n",
    "    answer.append(queue.popleft())\n",
    "\n",
    "print(\"<\",end='')\n",
    "for i in range(len(answer)-1):\n",
    "    print(\"%d, \"%answer[i], end='')\n",
    "print(answer[-1], end='')\n",
    "print(\">\")"
   ]
  },
  {
   "cell_type": "code",
   "execution_count": null,
   "metadata": {},
   "outputs": [],
   "source": [
    "## 1966번: 프린터 큐\n",
    "\n",
    "#프린터 큐(1966)\n",
    "import sys\n",
    "from collections import deque\n",
    "\n",
    "for _ in range(int(input())):\n",
    "    n, m = map(int, sys.stdin.readline().split())\n",
    "    deq = deque(map(int, sys.stdin.readline().split()))\n",
    "\n",
    "    ans = 0\n",
    "\n",
    "    while deq:\n",
    "        top = max(deq)\n",
    "        a = deq.popleft()\n",
    "        if a != top:\n",
    "            deq.append(a)\n",
    "            m -= 1\n",
    "            if m < 0:\n",
    "                m = len(deq)-1\n",
    "        else:\n",
    "            ans += 1\n",
    "            m -= 1\n",
    "            if m == -1:\n",
    "                print(ans)\n",
    "                break\n"
   ]
  },
  {
   "cell_type": "code",
   "execution_count": 4,
   "metadata": {},
   "outputs": [
    {
     "name": "stdin",
     "output_type": "stream",
     "text": [
      " 15\n",
      " push_back 1\n",
      " push_front 2\n",
      " front\n"
     ]
    },
    {
     "name": "stdout",
     "output_type": "stream",
     "text": [
      "2\n"
     ]
    },
    {
     "name": "stdin",
     "output_type": "stream",
     "text": [
      " back\n"
     ]
    },
    {
     "name": "stdout",
     "output_type": "stream",
     "text": [
      "1\n"
     ]
    },
    {
     "name": "stdin",
     "output_type": "stream",
     "text": [
      " size\n"
     ]
    },
    {
     "name": "stdout",
     "output_type": "stream",
     "text": [
      "2\n"
     ]
    },
    {
     "name": "stdin",
     "output_type": "stream",
     "text": [
      " empty\n"
     ]
    },
    {
     "name": "stdout",
     "output_type": "stream",
     "text": [
      "0\n"
     ]
    },
    {
     "name": "stdin",
     "output_type": "stream",
     "text": [
      " pop_front\n"
     ]
    },
    {
     "name": "stdout",
     "output_type": "stream",
     "text": [
      "2\n"
     ]
    },
    {
     "name": "stdin",
     "output_type": "stream",
     "text": [
      " pop_back\n"
     ]
    },
    {
     "name": "stdout",
     "output_type": "stream",
     "text": [
      "1\n"
     ]
    },
    {
     "name": "stdin",
     "output_type": "stream",
     "text": [
      " pop_front\n"
     ]
    },
    {
     "name": "stdout",
     "output_type": "stream",
     "text": [
      "-1\n"
     ]
    },
    {
     "name": "stdin",
     "output_type": "stream",
     "text": [
      " size\n"
     ]
    },
    {
     "name": "stdout",
     "output_type": "stream",
     "text": [
      "0\n"
     ]
    },
    {
     "name": "stdin",
     "output_type": "stream",
     "text": [
      " empty\n"
     ]
    },
    {
     "name": "stdout",
     "output_type": "stream",
     "text": [
      "1\n"
     ]
    },
    {
     "name": "stdin",
     "output_type": "stream",
     "text": [
      " pop_back\n"
     ]
    },
    {
     "name": "stdout",
     "output_type": "stream",
     "text": [
      "-1\n"
     ]
    },
    {
     "name": "stdin",
     "output_type": "stream",
     "text": [
      " push_front 3\n",
      " empty\n"
     ]
    },
    {
     "name": "stdout",
     "output_type": "stream",
     "text": [
      "0\n"
     ]
    },
    {
     "name": "stdin",
     "output_type": "stream",
     "text": [
      " front\n"
     ]
    },
    {
     "name": "stdout",
     "output_type": "stream",
     "text": [
      "3\n"
     ]
    }
   ],
   "source": [
    "## 10866번: 덱\n",
    "\n",
    "# import sys\n",
    "from collections import deque\n",
    "# input = sys.stdin.readline   \n",
    "\n",
    "n = int(input())\n",
    "q = deque([])\n",
    "\n",
    "for _ in range(n):\n",
    "    a = input().split()\n",
    "    if a[0] == 'push_front':\n",
    "        q.appendleft(a[1])\n",
    "    elif a[0] == 'push_back':\n",
    "        q.append(a[1])\n",
    "        \n",
    "    elif a[0] == 'pop_front':\n",
    "        if not q:\n",
    "            print(-1)\n",
    "        else:\n",
    "            print(q.popleft())\n",
    "    elif a[0] == 'pop_back':\n",
    "        if not q:\n",
    "            print(-1)\n",
    "        else:\n",
    "            print(q.pop())    \n",
    "            \n",
    "    elif a[0] =='size':\n",
    "        print(len(q))\n",
    "        \n",
    "    elif a[0] =='empty':\n",
    "        if not q:\n",
    "            print(1)\n",
    "        else:\n",
    "            print(0)\n",
    "            \n",
    "    elif a[0] == 'front': \n",
    "        if not q:\n",
    "            print(-1)\n",
    "        else:\n",
    "            print(q[0])\n",
    "    elif a[0] == 'back':\n",
    "        if not q:\n",
    "            print(-1)\n",
    "        else:\n",
    "            print(q[-1])"
   ]
  },
  {
   "cell_type": "code",
   "execution_count": 8,
   "metadata": {},
   "outputs": [
    {
     "name": "stdin",
     "output_type": "stream",
     "text": [
      " 10 3\n",
      " 2 9 5\n"
     ]
    },
    {
     "name": "stdout",
     "output_type": "stream",
     "text": [
      "8\n"
     ]
    }
   ],
   "source": [
    "## 1021번: 회전하는 큐\n",
    "\n",
    "from collections import deque\n",
    "\n",
    "\n",
    "N, M = map(int, input().split())\n",
    "data = deque([i for i in range(1,N+1)])\n",
    "index = list(map(int,input().split()))\n",
    "\n",
    "count = 0\n",
    "\n",
    "for num in index:\n",
    "    while True:\n",
    "        if data[0] == num:\n",
    "            data.popleft()\n",
    "            break\n",
    "        else:\n",
    "            if data.index(num) <= len(data)//2:\n",
    "                data.rotate(-1)\n",
    "                count += 1\n",
    "            else:\n",
    "                data.rotate(1)\n",
    "                count += 1\n",
    "                \n",
    "print(count)"
   ]
  },
  {
   "cell_type": "code",
   "execution_count": 15,
   "metadata": {},
   "outputs": [
    {
     "name": "stdin",
     "output_type": "stream",
     "text": [
      " 4\n",
      " RDD\n",
      " 4\n",
      " [1,2,3,4]\n"
     ]
    },
    {
     "name": "stdout",
     "output_type": "stream",
     "text": [
      "[2,1]\n"
     ]
    },
    {
     "name": "stdin",
     "output_type": "stream",
     "text": [
      " DD\n",
      " 1\n",
      " [42]\n"
     ]
    },
    {
     "name": "stdout",
     "output_type": "stream",
     "text": [
      "error\n"
     ]
    },
    {
     "name": "stdin",
     "output_type": "stream",
     "text": [
      " RRD\n",
      " 6\n",
      " [1,1,2,3,5,8]\n"
     ]
    },
    {
     "name": "stdout",
     "output_type": "stream",
     "text": [
      "[1,2,3,5,]\n"
     ]
    },
    {
     "name": "stdin",
     "output_type": "stream",
     "text": [
      " D\n",
      " 0\n",
      " []\n"
     ]
    },
    {
     "name": "stdout",
     "output_type": "stream",
     "text": [
      "error\n"
     ]
    }
   ],
   "source": [
    "## 5430번: AC\n",
    "\n",
    "from collections import deque\n",
    "\n",
    "\n",
    "T = int(input())\n",
    "\n",
    "for i in range(T):\n",
    "    p = input()\n",
    "    n = int(input())\n",
    "    deque = input()[1:-2].split(',')\n",
    "    p = p.replace('RR','')\n",
    "    \n",
    "    \n",
    "    r = 0    # 'R'의 개수 , 홀수이면 reverse\n",
    "    f,b = 0,0  # f: 앞에서부터 빼야할 수, b: 뒤에서부터 빼야할 수\n",
    "    \n",
    "    for j in p:\n",
    "        if j == 'R':\n",
    "            r += 1\n",
    "        elif j == 'D':\n",
    "            if r % 2 == 0:\n",
    "                f += 1\n",
    "            else:\n",
    "                b += 1\n",
    "    \n",
    "    if f + b <= n:\n",
    "        deque = deque[f:n-b]\n",
    "\n",
    "        if r % 2 == 1:\n",
    "            print('['+','.join(deque[::-1])+']')\n",
    "        else:\n",
    "            print('['+','.join(deque)+']')\n",
    "    else:\n",
    "        print('error')"
   ]
  },
  {
   "cell_type": "code",
   "execution_count": null,
   "metadata": {},
   "outputs": [],
   "source": []
  }
 ],
 "metadata": {
  "kernelspec": {
   "display_name": "Python 3",
   "language": "python",
   "name": "python3"
  },
  "language_info": {
   "codemirror_mode": {
    "name": "ipython",
    "version": 3
   },
   "file_extension": ".py",
   "mimetype": "text/x-python",
   "name": "python",
   "nbconvert_exporter": "python",
   "pygments_lexer": "ipython3",
   "version": "3.8.5"
  }
 },
 "nbformat": 4,
 "nbformat_minor": 4
}
