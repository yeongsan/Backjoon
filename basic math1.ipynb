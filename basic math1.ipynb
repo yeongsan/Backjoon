{
 "cells": [
  {
   "cell_type": "code",
   "execution_count": 2,
   "metadata": {},
   "outputs": [
    {
     "name": "stdin",
     "output_type": "stream",
     "text": [
      " 1000 70 170\n"
     ]
    },
    {
     "name": "stdout",
     "output_type": "stream",
     "text": [
      "11\n"
     ]
    }
   ],
   "source": [
    "## 1712번: 손익분기점\n",
    "\n",
    "A, B, C = map(int,input().split())\n",
    "\n",
    "if B>=C:print(-1)\n",
    "else: print(A//(C-B)+1)"
   ]
  },
  {
   "cell_type": "code",
   "execution_count": 3,
   "metadata": {},
   "outputs": [
    {
     "name": "stdin",
     "output_type": "stream",
     "text": [
      " 60\n"
     ]
    },
    {
     "name": "stdout",
     "output_type": "stream",
     "text": [
      "5\n"
     ]
    }
   ],
   "source": [
    "## 2292번: 벌집\n",
    "\n",
    "N = int(input())\n",
    "R = 1\n",
    "\n",
    "if N==1:\n",
    "    print(1)\n",
    "else:\n",
    "    N-=1\n",
    "    while 1:\n",
    "        if N - 6*R <= 0 :\n",
    "            print(R+1)\n",
    "            break\n",
    "        else:N -= 6*R\n",
    "        R += 1\n",
    "        "
   ]
  },
  {
   "cell_type": "code",
   "execution_count": 4,
   "metadata": {},
   "outputs": [
    {
     "name": "stdin",
     "output_type": "stream",
     "text": [
      " 14\n"
     ]
    },
    {
     "name": "stdout",
     "output_type": "stream",
     "text": [
      "2/4\n"
     ]
    }
   ],
   "source": [
    "## 1193번: 분수찾기\n",
    "\n",
    "x = int(input()) # x= 14\n",
    "line = 1\n",
    "\n",
    "while x > line:\n",
    "    x -= line    # x = 14, 13, 11, 8, 4\n",
    "    line += 1    # line = 1, 2, 3, 4, 5\n",
    "\n",
    "if line % 2 == 0 :\n",
    "    a = x\n",
    "    b = line - x + 1\n",
    "else:\n",
    "    a = line - x + 1\n",
    "    b = x\n",
    "\n",
    "print(a, \"/\", b, sep=\"\")"
   ]
  },
  {
   "cell_type": "code",
   "execution_count": 7,
   "metadata": {},
   "outputs": [
    {
     "name": "stdin",
     "output_type": "stream",
     "text": [
      " 5 1 6\n"
     ]
    },
    {
     "name": "stdout",
     "output_type": "stream",
     "text": [
      "2\n"
     ]
    }
   ],
   "source": [
    "## 2869번: 달팽이는 올라가고 싶다.\n",
    "A, B, V = map(int,input().split())\n",
    "\n",
    "K = (V-B)/(A-B)      # a*k-b*(k-1) => v   이항시킴\n",
    "print(int(K) if K == int(K) else int(K)+1)   "
   ]
  },
  {
   "cell_type": "code",
   "execution_count": 9,
   "metadata": {},
   "outputs": [
    {
     "name": "stdin",
     "output_type": "stream",
     "text": [
      " 2\n",
      " 6 12 10\n"
     ]
    },
    {
     "name": "stdout",
     "output_type": "stream",
     "text": [
      "402\n"
     ]
    },
    {
     "name": "stdin",
     "output_type": "stream",
     "text": [
      " 30 50 72\n"
     ]
    },
    {
     "name": "stdout",
     "output_type": "stream",
     "text": [
      "1203\n"
     ]
    }
   ],
   "source": [
    "## 10250번: ACM 호텔\n",
    "T = int(input())\n",
    "\n",
    "for _ in range(T):\n",
    "    H,W,N = map(int, input().split())\n",
    "    num = (N // H) + 1\n",
    "    floor = N % H\n",
    "    \n",
    "    if N % H ==0:\n",
    "        floor = H\n",
    "        num = N // H\n",
    "        \n",
    "    print(floor*100 + num)"
   ]
  },
  {
   "cell_type": "code",
   "execution_count": 2,
   "metadata": {},
   "outputs": [
    {
     "name": "stdin",
     "output_type": "stream",
     "text": [
      " 2\n",
      " 1\n",
      " 3\n"
     ]
    },
    {
     "name": "stdout",
     "output_type": "stream",
     "text": [
      "6\n"
     ]
    },
    {
     "name": "stdin",
     "output_type": "stream",
     "text": [
      " 2\n",
      " 3\n"
     ]
    },
    {
     "name": "stdout",
     "output_type": "stream",
     "text": [
      "10\n"
     ]
    }
   ],
   "source": [
    "## 2775번: 부녀회장이 될테야\n",
    "\n",
    "T = int(input())\n",
    "\n",
    "for _ in range(T):\n",
    "    k = int(input())\n",
    "    n = int(input())\n",
    "    \n",
    "    people = [i for i in range(1,n+1)]\n",
    "    \n",
    "    for _ in range(k):\n",
    "        for i in range(1,n):\n",
    "            people[i] += people[i-1]\n",
    "            \n",
    "    print(people[-1])"
   ]
  },
  {
   "cell_type": "code",
   "execution_count": 14,
   "metadata": {},
   "outputs": [
    {
     "name": "stdin",
     "output_type": "stream",
     "text": [
      " 10\n"
     ]
    },
    {
     "name": "stdout",
     "output_type": "stream",
     "text": [
      "2\n"
     ]
    }
   ],
   "source": [
    "## 2839번: 설탕 배달\n",
    "\n",
    "N = int(input()) # 설탕\n",
    "\n",
    "result = 0   # 봉지 수\n",
    "\n",
    "while N >= 0:\n",
    "    if N % 5 == 0 : \n",
    "        result += N//5\n",
    "        print(result)\n",
    "        break\n",
    "    N -= 3\n",
    "    result += 1\n",
    "else:\n",
    "    print(-1)"
   ]
  },
  {
   "cell_type": "code",
   "execution_count": 15,
   "metadata": {},
   "outputs": [
    {
     "ename": "ValueError",
     "evalue": "not enough values to unpack (expected 2, got 0)",
     "output_type": "error",
     "traceback": [
      "\u001b[1;31m---------------------------------------------------------------------------\u001b[0m",
      "\u001b[1;31mValueError\u001b[0m                                Traceback (most recent call last)",
      "\u001b[1;32m<ipython-input-15-47c465065870>\u001b[0m in \u001b[0;36m<module>\u001b[1;34m\u001b[0m\n\u001b[0;32m      3\u001b[0m \u001b[0minput\u001b[0m\u001b[1;33m=\u001b[0m \u001b[0msys\u001b[0m\u001b[1;33m.\u001b[0m\u001b[0mstdin\u001b[0m\u001b[1;33m.\u001b[0m\u001b[0mreadline\u001b[0m\u001b[1;33m\u001b[0m\u001b[1;33m\u001b[0m\u001b[0m\n\u001b[0;32m      4\u001b[0m \u001b[1;33m\u001b[0m\u001b[0m\n\u001b[1;32m----> 5\u001b[1;33m \u001b[0mA\u001b[0m \u001b[1;33m,\u001b[0m \u001b[0mB\u001b[0m \u001b[1;33m=\u001b[0m \u001b[0mmap\u001b[0m\u001b[1;33m(\u001b[0m\u001b[0mint\u001b[0m\u001b[1;33m,\u001b[0m \u001b[0minput\u001b[0m\u001b[1;33m(\u001b[0m\u001b[1;33m)\u001b[0m\u001b[1;33m.\u001b[0m\u001b[0msplit\u001b[0m\u001b[1;33m(\u001b[0m\u001b[1;33m)\u001b[0m\u001b[1;33m)\u001b[0m\u001b[1;33m\u001b[0m\u001b[1;33m\u001b[0m\u001b[0m\n\u001b[0m\u001b[0;32m      6\u001b[0m \u001b[0mprint\u001b[0m\u001b[1;33m(\u001b[0m\u001b[0mA\u001b[0m\u001b[1;33m+\u001b[0m\u001b[0mB\u001b[0m\u001b[1;33m)\u001b[0m\u001b[1;33m\u001b[0m\u001b[1;33m\u001b[0m\u001b[0m\n",
      "\u001b[1;31mValueError\u001b[0m: not enough values to unpack (expected 2, got 0)"
     ]
    }
   ],
   "source": [
    "## 10575번 : 큰 수 A+B\n",
    "import sys\n",
    "input= sys.stdin.readline\n",
    "\n",
    "A , B = map(int, input().split())\n",
    "print(A+B)"
   ]
  },
  {
   "cell_type": "code",
   "execution_count": 2,
   "metadata": {},
   "outputs": [
    {
     "name": "stdin",
     "output_type": "stream",
     "text": [
      " 3\n",
      " 0 3\n",
      " 1 5\n",
      " 45 50\n"
     ]
    },
    {
     "name": "stdout",
     "output_type": "stream",
     "text": [
      "3\n",
      "3\n",
      "4\n"
     ]
    }
   ],
   "source": [
    "## 1011번: Fly me to the Alpha Centauri\n",
    "# https://data-jj.tistory.com/36\n",
    "\n",
    "import math\n",
    "\n",
    "N = int(input())\n",
    "\n",
    "count = 0               # 최소 작동 횟수\n",
    "result = []\n",
    "\n",
    "for _ in range(N):\n",
    "    x , y = map(int, input().split())\n",
    "    distance = y - x\n",
    "    \n",
    "    num = math.floor(math.sqrt(distance))  # 주어진 값들 사이의 거리에 루트 씌움(제곱근)\n",
    "    num_squared= num**2\n",
    "    \n",
    "    if distance == num_squared:\n",
    "        count = (num*2) -1\n",
    "    \n",
    "    elif num_squared < distance <= num_squared + num:\n",
    "        count = (num*2)\n",
    "        \n",
    "    elif (num_squared + num) < distance:\n",
    "        count = (num*2) + 1\n",
    "        \n",
    "    elif distance < 4:\n",
    "        count = distance\n",
    "    result.append(count)\n",
    "    \n",
    "for x in result:\n",
    "    print(x)"
   ]
  },
  {
   "cell_type": "code",
   "execution_count": null,
   "metadata": {},
   "outputs": [],
   "source": []
  }
 ],
 "metadata": {
  "kernelspec": {
   "display_name": "Python 3",
   "language": "python",
   "name": "python3"
  },
  "language_info": {
   "codemirror_mode": {
    "name": "ipython",
    "version": 3
   },
   "file_extension": ".py",
   "mimetype": "text/x-python",
   "name": "python",
   "nbconvert_exporter": "python",
   "pygments_lexer": "ipython3",
   "version": "3.8.5"
  }
 },
 "nbformat": 4,
 "nbformat_minor": 4
}
