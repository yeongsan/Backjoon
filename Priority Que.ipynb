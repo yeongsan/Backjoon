{
 "cells": [
  {
   "cell_type": "code",
   "execution_count": null,
   "metadata": {},
   "outputs": [],
   "source": [
    "## 11279번: 최대 힙\n",
    "\n",
    "import sys\n",
    "import heapq\n",
    "\n",
    "numbers = int(input())\n",
    "heap = []\n",
    "\n",
    "# Max Heap\n",
    "\n",
    "for _ in range(numbers):\n",
    "    num = int(sys.stdin.readline())\n",
    "    if num != 0:\n",
    "        heapq.heappush(heap, (-num))\n",
    "    else:\n",
    "        try:\n",
    "            print(-1 * heapq.heappop(heap))\n",
    "        except:\n",
    "            print(0)"
   ]
  },
  {
   "cell_type": "code",
   "execution_count": null,
   "metadata": {},
   "outputs": [],
   "source": [
    "## 1927번: 최소 힙\n",
    "\n",
    "import sys\n",
    "import heapq\n",
    "\n",
    "numbers = int(input())\n",
    "heap = []\n",
    "\n",
    "# Min Heap\n",
    "\n",
    "for _ in range(numbers):\n",
    "    num = int(sys.stdin.readline())\n",
    "    if num != 0:\n",
    "        heapq.heappush(heap, (num))\n",
    "    else:\n",
    "        try:\n",
    "            print(heapq.heappop(heap))\n",
    "        except:\n",
    "            print(0)"
   ]
  },
  {
   "cell_type": "code",
   "execution_count": null,
   "metadata": {},
   "outputs": [],
   "source": [
    "# 11286번: 절댓값 힙\n",
    "\n",
    "import sys\n",
    "import heapq\n",
    "\n",
    "numbers = int(input())\n",
    "heap = []\n",
    "\n",
    "# Abs Heap\n",
    "\n",
    "for _ in range(numbers):\n",
    "    num = int(sys.stdin.readline())\n",
    "    if num != 0:\n",
    "        heapq.heappush(heap, (abs(num), num))\n",
    "    else:\n",
    "        try:\n",
    "            print(heapq.heappop(heap)[1])\n",
    "        except:\n",
    "            print(0)"
   ]
  },
  {
   "cell_type": "code",
   "execution_count": 3,
   "metadata": {},
   "outputs": [
    {
     "name": "stdin",
     "output_type": "stream",
     "text": [
      " 7\n",
      " 1\n"
     ]
    },
    {
     "name": "stdout",
     "output_type": "stream",
     "text": [
      "1\n"
     ]
    },
    {
     "name": "stdin",
     "output_type": "stream",
     "text": [
      " 4\n"
     ]
    },
    {
     "name": "stdout",
     "output_type": "stream",
     "text": [
      "1\n"
     ]
    },
    {
     "name": "stdin",
     "output_type": "stream",
     "text": [
      " 2\n"
     ]
    },
    {
     "name": "stdout",
     "output_type": "stream",
     "text": [
      "2\n"
     ]
    },
    {
     "name": "stdin",
     "output_type": "stream",
     "text": [
      " 5\n"
     ]
    },
    {
     "name": "stdout",
     "output_type": "stream",
     "text": [
      "2\n"
     ]
    },
    {
     "name": "stdin",
     "output_type": "stream",
     "text": [
      " 3\n"
     ]
    },
    {
     "name": "stdout",
     "output_type": "stream",
     "text": [
      "3\n"
     ]
    },
    {
     "name": "stdin",
     "output_type": "stream",
     "text": [
      " 6\n"
     ]
    },
    {
     "name": "stdout",
     "output_type": "stream",
     "text": [
      "3\n"
     ]
    },
    {
     "name": "stdin",
     "output_type": "stream",
     "text": [
      " 7\n"
     ]
    },
    {
     "name": "stdout",
     "output_type": "stream",
     "text": [
      "4\n"
     ]
    }
   ],
   "source": [
    "## 1655번: 가운데를 말해요\n",
    "\n",
    "import sys\n",
    "import heapq\n",
    "\n",
    "maxQ, minQ = [], []\n",
    "\n",
    "N = int(input())\n",
    "for i in range(N):\n",
    "    num = int(input())\n",
    "    if i % 2 == 0:\n",
    "        heapq.heappush(maxQ, num*-1)\n",
    "    else:\n",
    "        heapq.heappush(minQ, num)\n",
    "    if maxQ and minQ and maxQ[0]*-1 > minQ[0]:  # 항상 최대 힙의 peek값이 최소 힙의 peek값보다 작도록 유지\n",
    "        temp = heapq.heappop(maxQ)*-1           # 최소 힙의 peek값이 더 크다면 바꿔줌\n",
    "        heapq.heappush(maxQ, heapq.heappop(minQ)*-1)\n",
    "        heapq.heappush(minQ, temp)\n",
    "    print(maxQ[0]*-1)"
   ]
  },
  {
   "cell_type": "code",
   "execution_count": null,
   "metadata": {},
   "outputs": [],
   "source": []
  }
 ],
 "metadata": {
  "kernelspec": {
   "display_name": "Python 3",
   "language": "python",
   "name": "python3"
  },
  "language_info": {
   "codemirror_mode": {
    "name": "ipython",
    "version": 3
   },
   "file_extension": ".py",
   "mimetype": "text/x-python",
   "name": "python",
   "nbconvert_exporter": "python",
   "pygments_lexer": "ipython3",
   "version": "3.8.5"
  }
 },
 "nbformat": 4,
 "nbformat_minor": 4
 }
